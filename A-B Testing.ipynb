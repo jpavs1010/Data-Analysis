{
 "cells": [
  {
   "cell_type": "code",
   "execution_count": 3,
   "metadata": {},
   "outputs": [
    {
     "name": "stdout",
     "output_type": "stream",
     "text": [
      "                                user_id utm_source           day  \\\n",
      "0  008b7c6c-7272-471e-b90e-930d548bd8d7     google  6 - Saturday   \n",
      "1  009abb94-5e14-4b6c-bb1c-4f4df7aa7557   facebook    7 - Sunday   \n",
      "2  00f5d532-ed58-4570-b6d2-768df5f41aed    twitter   2 - Tuesday   \n",
      "3  011adc64-0f44-4fd9-a0bb-f1506d2ad439     google   2 - Tuesday   \n",
      "4  012137e6-7ae7-4649-af68-205b4702169c   facebook    7 - Sunday   \n",
      "\n",
      "  ad_click_timestamp experimental_group  \n",
      "0               7:18                  A  \n",
      "1                NaN                  B  \n",
      "2                NaN                  A  \n",
      "3                NaN                  B  \n",
      "4                NaN                  B  \n"
     ]
    }
   ],
   "source": [
    "# A-B Testing: Analyze Ad Clicks\n",
    "import pandas as pd\n",
    "\n",
    "# import csv\n",
    "ad_clicks = pd.read_csv(r'C:\\Users\\Jessica\\PycharmProjects\\pdxcodeguild\\practice\\ad_clicks.csv')\n",
    "# view first 5 lines of csv\n",
    "print(ad_clicks.head())"
   ]
  },
  {
   "cell_type": "code",
   "execution_count": 5,
   "metadata": {},
   "outputs": [
    {
     "name": "stdout",
     "output_type": "stream",
     "text": [
      "            user_id  day  ad_click_timestamp  experimental_group\n",
      "utm_source                                                      \n",
      "email           255  255                  80                 255\n",
      "facebook        504  504                 180                 504\n",
      "google          680  680                 239                 680\n",
      "twitter         215  215                  66                 215\n"
     ]
    }
   ],
   "source": [
    "# A-B Testing: Analyze Ad Clicks\n",
    "import pandas as pd\n",
    "\n",
    "# import csv\n",
    "ad_clicks = pd.read_csv(r'C:\\Users\\Jessica\\PycharmProjects\\pdxcodeguild\\practice\\ad_clicks.csv')\n",
    "# count the number of views (each row) for utm source\n",
    "views = ad_clicks.groupby('utm_source').count()\n",
    "print(views) "
   ]
  },
  {
   "cell_type": "code",
   "execution_count": 9,
   "metadata": {},
   "outputs": [
    {
     "name": "stdout",
     "output_type": "stream",
     "text": [
      "  utm_source  is_click  user_id\n",
      "0      email     False      175\n",
      "1      email      True       80\n",
      "2   facebook     False      324\n",
      "3   facebook      True      180\n",
      "4     google     False      441\n",
      "5     google      True      239\n",
      "6    twitter     False      149\n",
      "7    twitter      True       66\n"
     ]
    }
   ],
   "source": [
    "# A-B Testing: Analyze Ad Clicks\n",
    "import pandas as pd\n",
    "\n",
    "# import csv\n",
    "ad_clicks = pd.read_csv(r'C:\\Users\\Jessica\\PycharmProjects\\pdxcodeguild\\practice\\ad_clicks.csv')\n",
    "# count the number of views (each row) for utm source\n",
    "views = ad_clicks.groupby('utm_source').count()\n",
    "# create new column where true if row has timestamp in ad_click column or false if the timestamp is NaN\n",
    "ad_clicks['is_click'] = ~ad_clicks.ad_click_timestamp.isnull()\n",
    "# create new dataframe where count the user id for groups utm source and is click (Number of views) \n",
    "clicks_by_source = ad_clicks.groupby(['utm_source', 'is_click']).user_id.count().reset_index()\n",
    "\n",
    "print(clicks_by_source)"
   ]
  },
  {
   "cell_type": "code",
   "execution_count": 10,
   "metadata": {},
   "outputs": [
    {
     "name": "stdout",
     "output_type": "stream",
     "text": [
      "is_click utm_source  False  True\n",
      "0             email    175    80\n",
      "1          facebook    324   180\n",
      "2            google    441   239\n",
      "3           twitter    149    66\n"
     ]
    }
   ],
   "source": [
    "# A-B Testing: Analyze Ad Clicks\n",
    "import pandas as pd\n",
    "\n",
    "# import csv\n",
    "ad_clicks = pd.read_csv(r'C:\\Users\\Jessica\\PycharmProjects\\pdxcodeguild\\practice\\ad_clicks.csv')\n",
    "# count the number of views (each row) for utm source\n",
    "views = ad_clicks.groupby('utm_source').count()\n",
    "# create new column where true if row has timestamp in ad_click column or false if the timestamp is NaN\n",
    "ad_clicks['is_click'] = ~ad_clicks.ad_click_timestamp.isnull()\n",
    "# create new dataframe where count the user id for groups utm source and is click (Number of views) \n",
    "clicks_by_source = ad_clicks.groupby(['utm_source', 'is_click']).user_id.count().reset_index()\n",
    "# pivot table to visually show the count for true and false for each utm source\n",
    "clicks_pivot = clicks_by_source.pivot(columns='is_click', index='utm_source', values='user_id').reset_index()\n",
    "print(clicks_pivot)"
   ]
  },
  {
   "cell_type": "code",
   "execution_count": 17,
   "metadata": {},
   "outputs": [
    {
     "name": "stdout",
     "output_type": "stream",
     "text": [
      "is_click utm_source  False  True  percent_clicked\n",
      "0             email    175    80            31.37\n",
      "1          facebook    324   180            35.71\n",
      "2            google    441   239            35.15\n",
      "3           twitter    149    66            30.70\n"
     ]
    }
   ],
   "source": [
    "# A-B Testing: Analyze Ad Clicks\n",
    "import pandas as pd\n",
    "\n",
    "# import csv\n",
    "ad_clicks = pd.read_csv(r'C:\\Users\\Jessica\\PycharmProjects\\pdxcodeguild\\practice\\ad_clicks.csv')\n",
    "# count the number of views (each row) for utm source\n",
    "views = ad_clicks.groupby('utm_source').count()\n",
    "# create new column where true if row has timestamp in ad_click column or false if the timestamp is NaN\n",
    "ad_clicks['is_click'] = ~ad_clicks.ad_click_timestamp.isnull()\n",
    "# create new dataframe where count the user id for groups utm source and is click (Number of views) \n",
    "clicks_by_source = ad_clicks.groupby(['utm_source', 'is_click']).user_id.count().reset_index()\n",
    "# pivot table to visually show the count for true and false for each utm source\n",
    "clicks_pivot = clicks_by_source.pivot(columns='is_click', index='utm_source', values='user_id').reset_index()\n",
    "# create a new column percent clicked = percentage of people that clicked on utm source\n",
    "clicks_pivot['percent_clicked'] = round(clicks_pivot[True] / (clicks_pivot[True] + clicks_pivot[False]) * 100,2)\n",
    "\n",
    "print(clicks_pivot)"
   ]
  },
  {
   "cell_type": "code",
   "execution_count": 22,
   "metadata": {},
   "outputs": [
    {
     "name": "stdout",
     "output_type": "stream",
     "text": [
      "                    user_id  utm_source  day  ad_click_timestamp  is_click\n",
      "experimental_group                                                        \n",
      "A                       827         827  827                 310       827\n",
      "B                       827         827  827                 255       827\n"
     ]
    }
   ],
   "source": [
    "# A-B Testing: Analyze Ad Clicks\n",
    "import pandas as pd\n",
    "\n",
    "# import csv\n",
    "ad_clicks = pd.read_csv(r'C:\\Users\\Jessica\\PycharmProjects\\pdxcodeguild\\practice\\ad_clicks.csv')\n",
    "# count the number of views (each row) for utm source\n",
    "views = ad_clicks.groupby('utm_source').count()\n",
    "# create new column where true if row has timestamp in ad_click column or false if the timestamp is NaN\n",
    "ad_clicks['is_click'] = ~ad_clicks.ad_click_timestamp.isnull()\n",
    "# create new dataframe where count the user id for groups utm source and is click (Number of views) \n",
    "clicks_by_source = ad_clicks.groupby(['utm_source', 'is_click']).user_id.count().reset_index()\n",
    "# pivot table to visually show the count for true and false for each utm source\n",
    "clicks_pivot = clicks_by_source.pivot(columns='is_click', index='utm_source', values='user_id').reset_index()\n",
    "# create a new column percent clicked = percentage of people that clicked on utm source\n",
    "clicks_pivot['percent_clicked'] = round(clicks_pivot[True] / (clicks_pivot[True] + clicks_pivot[False]) * 100,2)\n",
    "# create new dataframe counts click by experimental group and the adclick dataframe(utm data source counts)\n",
    "views_by_group = ad_clicks.groupby('experimental_group').count()\n",
    "print(views_by_group)\n",
    "#827 people were shown group a, 827 people shown group b."
   ]
  },
  {
   "cell_type": "code",
   "execution_count": 24,
   "metadata": {},
   "outputs": [
    {
     "name": "stdout",
     "output_type": "stream",
     "text": [
      "  experimental_group  is_click  user_id\n",
      "0                  A     False      517\n",
      "1                  A      True      310\n",
      "2                  B     False      572\n",
      "3                  B      True      255\n"
     ]
    }
   ],
   "source": [
    "# A-B Testing: Analyze Ad Clicks\n",
    "import pandas as pd\n",
    "\n",
    "# import csv\n",
    "ad_clicks = pd.read_csv(r'C:\\Users\\Jessica\\PycharmProjects\\pdxcodeguild\\practice\\ad_clicks.csv')\n",
    "# count the number of views (each row) for utm source\n",
    "views = ad_clicks.groupby('utm_source').count()\n",
    "# create new column where true if row has timestamp in ad_click column or false if the timestamp is NaN\n",
    "ad_clicks['is_click'] = ~ad_clicks.ad_click_timestamp.isnull()\n",
    "# create new dataframe where count the user id for groups utm source and is click (Number of views) \n",
    "clicks_by_source = ad_clicks.groupby(['utm_source', 'is_click']).user_id.count().reset_index()\n",
    "# pivot table to visually show the count for true and false for each utm source\n",
    "clicks_pivot = clicks_by_source.pivot(columns='is_click', index='utm_source', values='user_id').reset_index()\n",
    "# create a new column percent clicked = percentage of people that clicked on utm source\n",
    "clicks_pivot['percent_clicked'] = round(clicks_pivot[True] / (clicks_pivot[True] + clicks_pivot[False]) * 100,2)\n",
    "# create new dataframe counts click by experimental group \n",
    "views_by_group = ad_clicks.groupby('experimental_group').count()\n",
    "# create a dataframe counts click group by experiemental group and views showing count per user id \n",
    "views_group_and_click = ad_clicks.groupby(['experimental_group', 'is_click']).user_id.count().reset_index()\n",
    "print(views_group_and_click)"
   ]
  },
  {
   "cell_type": "code",
   "execution_count": 25,
   "metadata": {},
   "outputs": [
    {
     "name": "stdout",
     "output_type": "stream",
     "text": [
      "is_click experimental_group  False  True\n",
      "0                         A    517   310\n",
      "1                         B    572   255\n"
     ]
    }
   ],
   "source": [
    "# A-B Testing: Analyze Ad Clicks\n",
    "import pandas as pd\n",
    "\n",
    "# import csv\n",
    "ad_clicks = pd.read_csv(r'C:\\Users\\Jessica\\PycharmProjects\\pdxcodeguild\\practice\\ad_clicks.csv')\n",
    "# count the number of views (each row) for utm source\n",
    "views = ad_clicks.groupby('utm_source').count()\n",
    "# create new column where true if row has timestamp in ad_click column or false if the timestamp is NaN\n",
    "ad_clicks['is_click'] = ~ad_clicks.ad_click_timestamp.isnull()\n",
    "# create new dataframe where count the user id for groups utm source and is click (Number of views) \n",
    "clicks_by_source = ad_clicks.groupby(['utm_source', 'is_click']).user_id.count().reset_index()\n",
    "# pivot table to visually show the count for true and false for each utm source\n",
    "clicks_pivot = clicks_by_source.pivot(columns='is_click', index='utm_source', values='user_id').reset_index()\n",
    "# create a new column percent clicked = percentage of people that clicked on utm source\n",
    "clicks_pivot['percent_clicked'] = round(clicks_pivot[True] / (clicks_pivot[True] + clicks_pivot[False]) * 100,2)\n",
    "# create new dataframe counts click by experimental group \n",
    "views_by_group = ad_clicks.groupby('experimental_group').count()\n",
    "# create a dataframe counts click group by experiemental group and views showing count per user id \n",
    "views_group_and_click = ad_clicks.groupby(['experimental_group', 'is_click']).user_id.count().reset_index()\n",
    "#pivot the dataframe to visually show the count for true and false and the experimental group\n",
    "views_pivot = views_group_and_click.pivot(columns='is_click', index='experimental_group', values='user_id').reset_index()\n",
    "\n",
    "print(views_pivot) \n",
    "# more people chose site A over site B"
   ]
  },
  {
   "cell_type": "code",
   "execution_count": 28,
   "metadata": {},
   "outputs": [
    {
     "name": "stdout",
     "output_type": "stream",
     "text": [
      "                                user_id utm_source            day  \\\n",
      "0  008b7c6c-7272-471e-b90e-930d548bd8d7     google   6 - Saturday   \n",
      "2  00f5d532-ed58-4570-b6d2-768df5f41aed    twitter    2 - Tuesday   \n",
      "5  013b0072-7b72-40e7-b698-98b4d0c9967f   facebook     1 - Monday   \n",
      "6  0153d85b-7660-4c39-92eb-1e1acd023280     google   4 - Thursday   \n",
      "7  01555297-d6e6-49ae-aeba-1b196fdbb09f     google  3 - Wednesday   \n",
      "\n",
      "  ad_click_timestamp experimental_group  is_click  \n",
      "0               7:18                  A      True  \n",
      "2                NaN                  A     False  \n",
      "5                NaN                  A     False  \n",
      "6                NaN                  A     False  \n",
      "7                NaN                  A     False  \n",
      "                                 user_id utm_source            day  \\\n",
      "1   009abb94-5e14-4b6c-bb1c-4f4df7aa7557   facebook     7 - Sunday   \n",
      "3   011adc64-0f44-4fd9-a0bb-f1506d2ad439     google    2 - Tuesday   \n",
      "4   012137e6-7ae7-4649-af68-205b4702169c   facebook     7 - Sunday   \n",
      "9   01a210c3-fde0-4e6f-8efd-4f0e38730ae6      email    2 - Tuesday   \n",
      "10  01adb2e7-f711-4ae4-a7c6-29f48457eea1     google  3 - Wednesday   \n",
      "\n",
      "   ad_click_timestamp experimental_group  is_click  \n",
      "1                 NaN                  B     False  \n",
      "3                 NaN                  B     False  \n",
      "4                 NaN                  B     False  \n",
      "9               15:21                  B      True  \n",
      "10                NaN                  B     False  \n"
     ]
    }
   ],
   "source": [
    "# A-B Testing: Analyze Ad Clicks\n",
    "import pandas as pd\n",
    "\n",
    "# import csv\n",
    "ad_clicks = pd.read_csv(r'C:\\Users\\Jessica\\PycharmProjects\\pdxcodeguild\\practice\\ad_clicks.csv')\n",
    "# count the number of views (each row) for utm source\n",
    "views = ad_clicks.groupby('utm_source').count()\n",
    "# create new column where true if row has timestamp in ad_click column or false if the timestamp is NaN\n",
    "ad_clicks['is_click'] = ~ad_clicks.ad_click_timestamp.isnull()\n",
    "# create new dataframe where count the user id for groups utm source and is click (Number of views) \n",
    "clicks_by_source = ad_clicks.groupby(['utm_source', 'is_click']).user_id.count().reset_index()\n",
    "# pivot table to visually show the count for true and false for each utm source\n",
    "clicks_pivot = clicks_by_source.pivot(columns='is_click', index='utm_source', values='user_id').reset_index()\n",
    "# create a new column percent clicked = percentage of people that clicked on utm source\n",
    "clicks_pivot['percent_clicked'] = round(clicks_pivot[True] / (clicks_pivot[True] + clicks_pivot[False]) * 100,2)\n",
    "# create new dataframe counts click by experimental group \n",
    "views_by_group = ad_clicks.groupby('experimental_group').count()\n",
    "# create a dataframe counts click group by experiemental group and views showing count per user id \n",
    "views_group_and_click = ad_clicks.groupby(['experimental_group', 'is_click']).user_id.count().reset_index()\n",
    "#pivot the dataframe to visually show the count for true and false and the experimental group\n",
    "views_pivot = views_group_and_click.pivot(columns='is_click', index='experimental_group', values='user_id').reset_index()\n",
    "\n",
    "# new dataframe showing specifically those of experimental group A\n",
    "a_clicks = ad_clicks[ad_clicks.experimental_group == 'A']\n",
    "#view first 5 rows of a_clicks dataframe\n",
    "print(a_clicks.head())\n",
    "# new dataframe showing specifically those of experimental group A\n",
    "b_clicks = ad_clicks[ad_clicks.experimental_group == 'B']\n",
    "#view first 5 rows of b_clicks dataframe\n",
    "print(b_clicks.head())"
   ]
  },
  {
   "cell_type": "code",
   "execution_count": 29,
   "metadata": {},
   "outputs": [
    {
     "name": "stdout",
     "output_type": "stream",
     "text": [
      "    is_click            day  user_id\n",
      "0      False     1 - Monday       70\n",
      "1      False    2 - Tuesday       76\n",
      "2      False  3 - Wednesday       86\n",
      "3      False   4 - Thursday       69\n",
      "4      False     5 - Friday       77\n",
      "5      False   6 - Saturday       73\n",
      "6      False     7 - Sunday       66\n",
      "7       True     1 - Monday       43\n",
      "8       True    2 - Tuesday       43\n",
      "9       True  3 - Wednesday       38\n",
      "10      True   4 - Thursday       47\n",
      "11      True     5 - Friday       51\n",
      "12      True   6 - Saturday       45\n",
      "13      True     7 - Sunday       43\n",
      "    is_click            day  user_id\n",
      "0      False     1 - Monday       81\n",
      "1      False    2 - Tuesday       74\n",
      "2      False  3 - Wednesday       89\n",
      "3      False   4 - Thursday       87\n",
      "4      False     5 - Friday       90\n",
      "5      False   6 - Saturday       76\n",
      "6      False     7 - Sunday       75\n",
      "7       True     1 - Monday       32\n",
      "8       True    2 - Tuesday       45\n",
      "9       True  3 - Wednesday       35\n",
      "10      True   4 - Thursday       29\n",
      "11      True     5 - Friday       38\n",
      "12      True   6 - Saturday       42\n",
      "13      True     7 - Sunday       34\n"
     ]
    }
   ],
   "source": [
    "# A-B Testing: Analyze Ad Clicks\n",
    "import pandas as pd\n",
    "\n",
    "# import csv\n",
    "ad_clicks = pd.read_csv(r'C:\\Users\\Jessica\\PycharmProjects\\pdxcodeguild\\practice\\ad_clicks.csv')\n",
    "# count the number of views (each row) for utm source\n",
    "views = ad_clicks.groupby('utm_source').count()\n",
    "# create new column where true if row has timestamp in ad_click column or false if the timestamp is NaN\n",
    "ad_clicks['is_click'] = ~ad_clicks.ad_click_timestamp.isnull()\n",
    "# create new dataframe where count the user id for groups utm source and is click (Number of views) \n",
    "clicks_by_source = ad_clicks.groupby(['utm_source', 'is_click']).user_id.count().reset_index()\n",
    "# pivot table to visually show the count for true and false for each utm source\n",
    "clicks_pivot = clicks_by_source.pivot(columns='is_click', index='utm_source', values='user_id').reset_index()\n",
    "# create a new column percent clicked = percentage of people that clicked on utm source\n",
    "clicks_pivot['percent_clicked'] = round(clicks_pivot[True] / (clicks_pivot[True] + clicks_pivot[False]) * 100,2)\n",
    "# create new dataframe counts click by experimental group \n",
    "views_by_group = ad_clicks.groupby('experimental_group').count()\n",
    "# create a dataframe counts click group by experiemental group and views showing count per user id \n",
    "views_group_and_click = ad_clicks.groupby(['experimental_group', 'is_click']).user_id.count().reset_index()\n",
    "#pivot the dataframe to visually show the count for true and false and the experimental group\n",
    "views_pivot = views_group_and_click.pivot(columns='is_click', index='experimental_group', values='user_id').reset_index()\n",
    "\n",
    "# new dataframe showing specifically those of experimental group A\n",
    "a_clicks = ad_clicks[ad_clicks.experimental_group == 'A']\n",
    "# new dataframe showing specifically those of experimental group A\n",
    "b_clicks = ad_clicks[ad_clicks.experimental_group == 'B']\n",
    "\n",
    "# new dataframe grouping the is click and day column counting the user id for only the a_clicks\n",
    "a_click_by_day = a_clicks.groupby(['is_click', 'day']).user_id.count().reset_index()\n",
    "print(a_click_by_day)\n",
    "# new dataframe grouping the is click and day column counting the user id for only the b_clicks\n",
    "b_click_by_day = b_clicks.groupby(['is_click', 'day']).user_id.count().reset_index()\n",
    "print(b_click_by_day)"
   ]
  },
  {
   "cell_type": "code",
   "execution_count": 30,
   "metadata": {},
   "outputs": [
    {
     "name": "stdout",
     "output_type": "stream",
     "text": [
      "day  is_click  1 - Monday  2 - Tuesday  3 - Wednesday  4 - Thursday  \\\n",
      "0       False          70           76             86            69   \n",
      "1        True          43           43             38            47   \n",
      "\n",
      "day  5 - Friday  6 - Saturday  7 - Sunday  \n",
      "0            77            73          66  \n",
      "1            51            45          43  \n",
      "day  is_click  1 - Monday  2 - Tuesday  3 - Wednesday  4 - Thursday  \\\n",
      "0       False          81           74             89            87   \n",
      "1        True          32           45             35            29   \n",
      "\n",
      "day  5 - Friday  6 - Saturday  7 - Sunday  \n",
      "0            90            76          75  \n",
      "1            38            42          34  \n"
     ]
    }
   ],
   "source": [
    "# A-B Testing: Analyze Ad Clicks\n",
    "import pandas as pd\n",
    "\n",
    "# import csv\n",
    "ad_clicks = pd.read_csv(r'C:\\Users\\Jessica\\PycharmProjects\\pdxcodeguild\\practice\\ad_clicks.csv')\n",
    "# count the number of views (each row) for utm source\n",
    "views = ad_clicks.groupby('utm_source').count()\n",
    "# create new column where true if row has timestamp in ad_click column or false if the timestamp is NaN\n",
    "ad_clicks['is_click'] = ~ad_clicks.ad_click_timestamp.isnull()\n",
    "# create new dataframe where count the user id for groups utm source and is click (Number of views) \n",
    "clicks_by_source = ad_clicks.groupby(['utm_source', 'is_click']).user_id.count().reset_index()\n",
    "# pivot table to visually show the count for true and false for each utm source\n",
    "clicks_pivot = clicks_by_source.pivot(columns='is_click', index='utm_source', values='user_id').reset_index()\n",
    "# create a new column percent clicked = percentage of people that clicked on utm source\n",
    "clicks_pivot['percent_clicked'] = round(clicks_pivot[True] / (clicks_pivot[True] + clicks_pivot[False]) * 100,2)\n",
    "# create new dataframe counts click by experimental group \n",
    "views_by_group = ad_clicks.groupby('experimental_group').count()\n",
    "# create a dataframe counts click group by experiemental group and views showing count per user id \n",
    "views_group_and_click = ad_clicks.groupby(['experimental_group', 'is_click']).user_id.count().reset_index()\n",
    "#pivot the dataframe to visually show the count for true and false and the experimental group\n",
    "views_pivot = views_group_and_click.pivot(columns='is_click', index='experimental_group', values='user_id').reset_index()\n",
    "\n",
    "# new dataframe showing specifically those of experimental group A\n",
    "a_clicks = ad_clicks[ad_clicks.experimental_group == 'A']\n",
    "# new dataframe showing specifically those of experimental group A\n",
    "b_clicks = ad_clicks[ad_clicks.experimental_group == 'B']\n",
    "\n",
    "# new dataframe grouping the is click and day column counting the user id for only the a_clicks\n",
    "a_click_by_day = a_clicks.groupby(['is_click', 'day']).user_id.count().reset_index()\n",
    "# new dataframe grouping the is click and day column counting the user id for only the b_clicks\n",
    "b_click_by_day = b_clicks.groupby(['is_click', 'day']).user_id.count().reset_index()\n",
    "\n",
    "#pivot the a_click dataframe to visually show the count for views (true/false) by day for experimental group A \n",
    "a_pivot = a_click_by_day.pivot(columns='day', index='is_click', values='user_id').reset_index()\n",
    "print(a_pivot)\n",
    "#pivot the a_click dataframe to visually show the count for views (true/false) by day for experimental group B\n",
    "b_pivot = b_click_by_day.pivot(columns='day', index='is_click', values='user_id').reset_index()\n",
    "\n",
    "print(b_pivot)\n",
    "\n",
    "#based on the review of the A-B Test would recommend chosing experiemental site A as it gained more clicks each day than site B"
   ]
  },
  {
   "cell_type": "code",
   "execution_count": null,
   "metadata": {
    "collapsed": true
   },
   "outputs": [],
   "source": []
  }
 ],
 "metadata": {
  "kernelspec": {
   "display_name": "Python 3",
   "language": "python",
   "name": "python3"
  },
  "language_info": {
   "codemirror_mode": {
    "name": "ipython",
    "version": 3
   },
   "file_extension": ".py",
   "mimetype": "text/x-python",
   "name": "python",
   "nbconvert_exporter": "python",
   "pygments_lexer": "ipython3",
   "version": "3.6.2"
  }
 },
 "nbformat": 4,
 "nbformat_minor": 2
}
