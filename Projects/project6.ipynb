{
 "cells": [
  {
   "cell_type": "markdown",
   "metadata": {},
   "source": [
    "# Project: Board Slides for FoodWheel\n",
    "\n",
    "FoodWheel is a startup delivery service that takes away the struggle of deciding where to eat! FoodWheel picks you an amazing local restaurant and lets you order through the app. Senior leadership is getting ready for a big board meeting, and as the resident Data Analyst, you have been enlisted to help decipher data and create a presentation to answer several key questions:\n",
    "\n",
    "What cuisines does FoodWheel offer? Which areas should the company search for more restaurants to partner with?\n",
    "How has the average order amount changed over time? What does this say about the trajectory of the company?\n",
    "How much has each customer on FoodWheel spent over the past six months? What can this tell us about the average FoodWheel customer?\n",
    "\n",
    "Over this project, you will analyze several DataFrames and create several visualizations to help answer these questions."
   ]
  },
  {
   "cell_type": "markdown",
   "metadata": {},
   "source": [
    "We're going to use `pandas` and `matplotlib` for this project.  Import both libraries, under their normal names (`pd` and `plt`)."
   ]
  },
  {
   "cell_type": "code",
   "execution_count": null,
   "metadata": {
    "collapsed": true
   },
   "outputs": [],
   "source": [
    "import pandas as pd\n",
    "from matplotlib import pyplot as plt"
   ]
  },
  {
   "cell_type": "markdown",
   "metadata": {},
   "source": [
    "## Task 1: What cuisines does FoodWheel offer?\n",
    "The board wants to make sure that FoodWheel offers a wide variety of restaurants.  Having many different options makes customers more likely to come back.  Let's create pie chart showing the different types of cuisines available on FoodWheel."
   ]
  },
  {
   "cell_type": "markdown",
   "metadata": {},
   "source": [
    "Start by loading `restaurants.csv` into a DataFrame called `restaurants`."
   ]
  },
  {
   "cell_type": "code",
   "execution_count": 3,
   "metadata": {},
   "outputs": [],
   "source": [
    "import pandas as pd\n",
    "from matplotlib import pyplot as plt\n",
    "\n",
    "restaurants = pd.read_csv(r'C:\\Users\\Jessica\\PycharmProjects\\practice\\foodwheel\\restaurants.csv')"
   ]
  },
  {
   "cell_type": "markdown",
   "metadata": {},
   "source": [
    "Inspect `restaurants` using `head`"
   ]
  },
  {
   "cell_type": "code",
   "execution_count": 93,
   "metadata": {},
   "outputs": [
    {
     "name": "stdout",
     "output_type": "stream",
     "text": [
      "   id                name neighborhood  cuisine\n",
      "0   1          Jongro BBQ      Midtown   Korean\n",
      "1   2            Pocha 32      Midtown   Korean\n",
      "2   3  Nom Wah Tea Parlor    Chinatown  Chinese\n",
      "3   4           Roberta’s     Brooklyn    Pizza\n",
      "4   5        Speedy Romeo     Brooklyn    Pizza\n"
     ]
    }
   ],
   "source": [
    "import pandas as pd\n",
    "from matplotlib import pyplot as plt\n",
    "\n",
    "restaurants = pd.read_csv(r'C:\\Users\\Jessica\\PycharmProjects\\practice\\foodwheel\\restaurants.csv')\n",
    "print(restaurants.head())\n"
   ]
  },
  {
   "cell_type": "markdown",
   "metadata": {},
   "source": [
    "How many different types of cuisine does FoodWheel offer?\n",
    "(hint: use `.nunique`)"
   ]
  },
  {
   "cell_type": "code",
   "execution_count": 31,
   "metadata": {},
   "outputs": [
    {
     "name": "stdout",
     "output_type": "stream",
     "text": [
      "Types of cuisine offered: 7\n"
     ]
    }
   ],
   "source": [
    "import pandas as pd\n",
    "from matplotlib import pyplot as plt\n",
    "\n",
    "restaurants = pd.read_csv(r'C:\\Users\\Jessica\\PycharmProjects\\practice\\foodwheel\\restaurants.csv')\n",
    "\n",
    "\n",
    "cuisine_offered = restaurants.cuisine.nunique()\n",
    "print('Types of cuisine offered: {}'.format(cuisine_offered))"
   ]
  },
  {
   "cell_type": "markdown",
   "metadata": {},
   "source": [
    "Let's count the number of restautants of each `cuisine`.  Use `groupby` and `count`.  Save your results to `cuisine_counts`."
   ]
  },
  {
   "cell_type": "code",
   "execution_count": 35,
   "metadata": {},
   "outputs": [
    {
     "name": "stdout",
     "output_type": "stream",
     "text": [
      "cuisine\n",
      "American      10\n",
      "Chinese       11\n",
      "Italian        8\n",
      "Japanese       4\n",
      "Korean         3\n",
      "Pizza          4\n",
      "Vegetarian     4\n",
      "Name: id, dtype: int64\n",
      "['Korean' 'Chinese' 'Pizza' 'Vegetarian' 'Italian' 'Japanese' 'American']\n",
      "[10, 11, 8, 4, 3, 4, 4]\n",
      "['Korean', 'Chinese', 'Pizza', 'Vegetarian', 'Italian', 'Japanese', 'American']\n",
      "{'Korean': 10, 'Chinese': 11, 'Pizza': 8, 'Vegetarian': 4, 'Italian': 3, 'Japanese': 4, 'American': 4}\n"
     ]
    }
   ],
   "source": [
    "import pandas as pd\n",
    "from matplotlib import pyplot as plt\n",
    "\n",
    "restaurants = pd.read_csv(r'C:\\Users\\Jessica\\PycharmProjects\\practice\\foodwheel\\restaurants.csv')\n",
    "\n",
    "cuisine_offered = restaurants.cuisine.nunique()\n",
    "\n",
    "cuisine_counts = restaurants.groupby(['cuisine']).id.count()\n",
    "print(cuisine_counts)\n",
    "\n",
    "types_of_cuisine_offered = restaurants.cuisine.unique()\n",
    "print(types_of_cuisine_offered)\n",
    "\n",
    "cuisine_counts_list = cuisine_counts.tolist()\n",
    "print(cuisine_counts_list)\n",
    "\n",
    "cuisine_list = types_of_cuisine_offered.tolist()\n",
    "print(cuisine_list)\n",
    "\n",
    "# dictionary = dict(zip(keys, values))\n",
    "cuisine_dictionary = dict(zip(cuisine_list,cuisine_counts_list))\n",
    "print(cuisine_dictionary)\n"
   ]
  },
  {
   "cell_type": "markdown",
   "metadata": {},
   "source": [
    "Let's use this information to create a pie chart.  Make sure that your pie chart includes:\n",
    "- Labels for each cuisine (i.e, \"American\", \"Chinese\", etc.)\n",
    "- Percent labels using `autopct`\n",
    "- A title\n",
    "- Use `plt.axis` to make the pie chart a perfect circle\n",
    "- `plt.show()` to display your chart"
   ]
  },
  {
   "cell_type": "code",
   "execution_count": 96,
   "metadata": {},
   "outputs": [
    {
     "data": {
      "image/png": "[encoded data removed]",
      "text/plain": [
       "<matplotlib.figure.Figure at 0x2d77a50>"
      ]
     },
     "metadata": {},
     "output_type": "display_data"
    },
    {
     "name": "stdout",
     "output_type": "stream",
     "text": [
      "FoodWheel offers 7 different types of cuisines.\n",
      " The top 3 cuisines: Chinese, Korean, and Pizza.\n",
      " To increase offerings, may want to partner with restaurants that offer: Italian, Japanese, American, and Vegetarian\n"
     ]
    }
   ],
   "source": [
    "import pandas as pd\n",
    "from matplotlib import pyplot as plt\n",
    "\n",
    "restaurants = pd.read_csv(r'C:\\Users\\Jessica\\PycharmProjects\\practice\\foodwheel\\restaurants.csv')\n",
    "\n",
    "cuisine_offered = restaurants.cuisine.nunique()\n",
    "\n",
    "cuisine_counts = restaurants.groupby(['cuisine']).id.count()\n",
    "types_of_cuisine_offered = restaurants.cuisine.unique()\n",
    "cuisine_counts_list = cuisine_counts.tolist()\n",
    "# print('Cuisine Counts in List format {}'.format(cuisine_counts_list))\n",
    "\n",
    "cuisine_list = types_of_cuisine_offered.tolist()\n",
    "# print('Cusine Offered in List format {}'.format(cuisine_list))\n",
    "\n",
    "# dictionary = dict(zip(keys, values))\n",
    "cuisine_dictionary = dict(zip(cuisine_list,cuisine_counts_list))\n",
    "# print('Cuisine Counts in Dictionary format {}'.format(cuisine_dictionary))\n",
    "\n",
    "# plt.figure(figsize=(10,15))\n",
    "plt.title('FoodWheel: Cuisines Offered')\n",
    "plt.pie(cuisine_counts, labels= cuisine_list, autopct='%d%%')\n",
    "plt.axis('equal')\n",
    "# plt.legend()\n",
    "plt.show()\n",
    "\n",
    "print('FoodWheel offers 7 different types of cuisines.\\n The top 3 cuisines: Chinese, Korean, and Pizza.\\n To increase offerings, may want to partner with restaurants that offer: Italian, Japanese, American, and Vegetarian')"
   ]
  },
  {
   "cell_type": "markdown",
   "metadata": {},
   "source": [
    "## Task 2: Orders over time\n",
    "FoodWheel is a relatively new start up.  They launched in April, and have grown more popular since them.  Management suspects that the average order size has increased over time.\n",
    "\n",
    "Start by loading the data from `orders.csv` into the DataFrame `orders`."
   ]
  },
  {
   "cell_type": "code",
   "execution_count": 85,
   "metadata": {},
   "outputs": [],
   "source": [
    "import pandas as pd\n",
    "orders = pd.read_csv(r'C:\\Users\\Jessica\\PycharmProjects\\practice\\foodwheel\\orders.csv')"
   ]
  },
  {
   "cell_type": "markdown",
   "metadata": {},
   "source": [
    "Examine the first few rows of `orders` using `head`."
   ]
  },
  {
   "cell_type": "code",
   "execution_count": 86,
   "metadata": {},
   "outputs": [
    {
     "name": "stdout",
     "output_type": "stream",
     "text": [
      "   id  customer_id       date  price\n",
      "0   1           61  6-18-2017   13.0\n",
      "1   2          210   5-8-2017   21.0\n",
      "2   3            0   9-7-2017   33.0\n",
      "3   4           66   7-7-2017   19.0\n",
      "4   5           65  4-26-2017   13.0\n"
     ]
    }
   ],
   "source": [
    "import pandas as pd\n",
    "orders = pd.read_csv(r'C:\\Users\\Jessica\\PycharmProjects\\practice\\foodwheel\\orders.csv')\n",
    "print(orders.head())"
   ]
  },
  {
   "cell_type": "markdown",
   "metadata": {},
   "source": [
    "Create a new column in `order` called `month` that contains the month that the order was placed.\n",
    "\n",
    "Hint: The function `split` will split a string on a character.  For instance, if `mydate` is the string `9-26-2017`, then `mydate.split('-')` would return the list `['9', '26', '2017']`.  `mydate.split('-')[0]` would return `'9'`."
   ]
  },
  {
   "cell_type": "code",
   "execution_count": 101,
   "metadata": {},
   "outputs": [
    {
     "name": "stdout",
     "output_type": "stream",
     "text": [
      "   id  customer_id       date  price month\n",
      "0   1           61  6-18-2017   13.0     6\n",
      "1   2          210   5-8-2017   21.0     5\n",
      "2   3            0   9-7-2017   33.0     9\n",
      "3   4           66   7-7-2017   19.0     7\n",
      "4   5           65  4-26-2017   13.0     4\n"
     ]
    }
   ],
   "source": [
    "import pandas as pd\n",
    "orders = pd.read_csv(r'C:\\Users\\Jessica\\PycharmProjects\\practice\\foodwheel\\orders.csv')\n",
    "\n",
    "orders['month'] = orders.date.apply(lambda x: x.split('-')[0])\n",
    "print(orders.head())"
   ]
  },
  {
   "cell_type": "markdown",
   "metadata": {},
   "source": [
    "Group `orders` by `month` and get the average order amount in each `month`.  Save your answer to `avg_order`."
   ]
  },
  {
   "cell_type": "code",
   "execution_count": 108,
   "metadata": {},
   "outputs": [
    {
     "name": "stdout",
     "output_type": "stream",
     "text": [
      "  month      price\n",
      "0     4   9.609195\n",
      "1     5  14.858824\n",
      "2     6  15.152174\n",
      "3     7  18.012821\n",
      "4     8  21.150685\n",
      "5     9  29.505882\n"
     ]
    }
   ],
   "source": [
    "import pandas as pd\n",
    "orders = pd.read_csv(r'C:\\Users\\Jessica\\PycharmProjects\\practice\\foodwheel\\orders.csv')\n",
    "\n",
    "orders['month'] = orders.date.apply(lambda x: x.split('-')[0])\n",
    "avg_order = orders.groupby(['month']).price.mean().reset_index()\n",
    "print(avg_order)"
   ]
  },
  {
   "cell_type": "markdown",
   "metadata": {},
   "source": [
    "It looks like the average order is increasing each month.  Great!  We're eventually going to make a bar chart with this information.  It would be nice if our bar chart had error bars.  Calculate the standard deviation for each month using `std`.  Save this to `std_order`."
   ]
  },
  {
   "cell_type": "code",
   "execution_count": 115,
   "metadata": {},
   "outputs": [
    {
     "name": "stdout",
     "output_type": "stream",
     "text": [
      "  month     price\n",
      "0     4  2.562504\n",
      "1     5  3.395210\n",
      "2     6  2.835934\n",
      "3     7  2.848985\n",
      "4     8  4.455556\n",
      "5     9  4.518806\n"
     ]
    }
   ],
   "source": [
    "import pandas as pd\n",
    "orders = pd.read_csv(r'C:\\Users\\Jessica\\PycharmProjects\\practice\\foodwheel\\orders.csv')\n",
    "\n",
    "orders['month'] = orders.date.apply(lambda x: x.split('-')[0])\n",
    "\n",
    "\n",
    "avg_order = orders.groupby(['month']).price.mean().reset_index()\n",
    "\n",
    "std_order = orders.groupby(['month']).price.std().reset_index()\n",
    "print(std_order)"
   ]
  },
  {
   "cell_type": "markdown",
   "metadata": {},
   "source": [
    "Create a bar chart to share this data.\n",
    "- The height of each bar should come from `avg_price`\n",
    "- Use the standard deviations in `std_order` as the `yerr`\n",
    "- The error capsize should be 5\n",
    "- Make sure that you label each bar with the name of the month (i.e., 4 = April).\n",
    "- Also be sure to label the y-axis\n",
    "- Give your plot a descriptive title"
   ]
  },
  {
   "cell_type": "code",
   "execution_count": 164,
   "metadata": {},
   "outputs": [
    {
     "data": {
      "image/png": "[encoded data removed]",
      "text/plain": [
       "<matplotlib.figure.Figure at 0xa104590>"
      ]
     },
     "metadata": {},
     "output_type": "display_data"
    },
    {
     "name": "stdout",
     "output_type": "stream",
     "text": [
      "Over time the average order price has increased between April and September showing an overall positive trajectory\n"
     ]
    }
   ],
   "source": [
    "from matplotlib import pyplot as plt\n",
    "import pandas as pd\n",
    "\n",
    "orders = pd.read_csv(r'C:\\Users\\Jessica\\PycharmProjects\\practice\\foodwheel\\orders.csv')\n",
    "\n",
    "orders['month'] = orders.date.apply(lambda x: x.split('-')[0])\n",
    "avg_order = orders.groupby(['month']).price.mean().reset_index()\n",
    "\n",
    "std_order = orders.groupby(['month']).price.std().reset_index()\n",
    "\n",
    "error = std_order.price.tolist()\n",
    "\n",
    "plt.bar(range(len(avg_order)), avg_order.price, yerr=error, capsize=5)\n",
    "\n",
    "ax = plt.subplot()\n",
    "ax.set_xticks(range(len(avg_order)))\n",
    "ax.set_xticklabels(['April', 'May','June', 'July', 'August', 'September'])\n",
    "\n",
    "plt.xlabel('Months')\n",
    "plt.ylabel('Average Price')\n",
    "\n",
    "plt.title('Average Price with Margin of Error from April - September')\n",
    "\n",
    "plt.show()\n",
    "\n",
    "print('Over time the average order price has increased between April and September showing an overall positive trajectory')"
   ]
  },
  {
   "cell_type": "markdown",
   "metadata": {},
   "source": [
    "## Task 3: Customer types\n",
    "There is a range of amounts that customers spend at FoodWheel.  We'd like to create a histogram of the amount spent by each customer over the past six months.\n",
    "\n",
    "Start by grouping `orders` by `customer_id` and calculating the total amount spent by each customer.  Save your results to `customer_amount`."
   ]
  },
  {
   "cell_type": "code",
   "execution_count": 174,
   "metadata": {},
   "outputs": [
    {
     "name": "stdout",
     "output_type": "stream",
     "text": [
      "     customer_id  price\n",
      "0              0   83.0\n",
      "1              2   11.0\n",
      "2              3   65.0\n",
      "3              4   32.0\n",
      "4              5  119.0\n",
      "5              6   29.0\n",
      "6              7   26.0\n",
      "7              8   56.0\n",
      "8              9   64.0\n",
      "9             11   22.0\n",
      "10            12   31.0\n",
      "11            13   11.0\n",
      "12            14   57.0\n",
      "13            15   17.0\n",
      "14            16   50.0\n",
      "15            17  145.0\n",
      "16            18   53.0\n",
      "17            19   15.0\n",
      "18            20   43.0\n",
      "19            21   15.0\n",
      "20            22   63.0\n",
      "21            23   35.0\n",
      "22            24   14.0\n",
      "23            25   58.0\n",
      "24            26   13.0\n",
      "25            27   38.0\n",
      "26            28   51.0\n",
      "27            29   17.0\n",
      "28            30   15.0\n",
      "29            32   20.0\n",
      "..           ...    ...\n",
      "194          215   52.0\n",
      "195          218   55.0\n",
      "196          219   28.0\n",
      "197          221   22.0\n",
      "198          222   15.0\n",
      "199          223   16.0\n",
      "200          224    9.0\n",
      "201          226   95.0\n",
      "202          227   26.0\n",
      "203          228   18.0\n",
      "204          229   52.0\n",
      "205          230   16.0\n",
      "206          231   25.0\n",
      "207          232   12.0\n",
      "208          233   34.0\n",
      "209          234   62.0\n",
      "210          236   26.0\n",
      "211          237   28.0\n",
      "212          238   64.0\n",
      "213          239   95.0\n",
      "214          240   82.0\n",
      "215          241   35.0\n",
      "216          242    8.0\n",
      "217          243   60.0\n",
      "218          244   30.0\n",
      "219          245   68.0\n",
      "220          246   16.0\n",
      "221          247   35.0\n",
      "222          248   89.0\n",
      "223          249   27.0\n",
      "\n",
      "[224 rows x 2 columns]\n"
     ]
    }
   ],
   "source": [
    "import pandas as pd\n",
    "orders = pd.read_csv(r'C:\\Users\\Jessica\\PycharmProjects\\practice\\foodwheel\\orders.csv')\n",
    "\n",
    "customer_amount = orders.groupby('customer_id').price.sum().reset_index()\n",
    "print(customer_amount)"
   ]
  },
  {
   "cell_type": "markdown",
   "metadata": {},
   "source": [
    "Create a histogram of this data.\n",
    "- The range should be from 0 to 200\n",
    "- The number of bins should be 40\n",
    "- Label the x-axis `Total Spent`\n",
    "- Label the y-axis `Number of Customers`\n",
    "- Add a titel"
   ]
  },
  {
   "cell_type": "code",
   "execution_count": 194,
   "metadata": {},
   "outputs": [
    {
     "data": {
      "image/png": "[encoded data removed]",
      "text/plain": [
       "<matplotlib.figure.Figure at 0x2bb57d0>"
      ]
     },
     "metadata": {},
     "output_type": "display_data"
    },
    {
     "name": "stdout",
     "output_type": "stream",
     "text": [
      "The average FoodWheel customer spends between $15-$40 on orders\n"
     ]
    }
   ],
   "source": [
    "import pandas as pd\n",
    "from matplotlib import pyplot as plt\n",
    "\n",
    "orders = pd.read_csv(r'C:\\Users\\Jessica\\PycharmProjects\\practice\\foodwheel\\orders.csv')\n",
    "\n",
    "customer_amount = orders.groupby('customer_id').price.sum().reset_index()\n",
    "cust_mean = orders.groupby('customer_id').price.mean().reset_index()\n",
    "cust_median = orders.groupby('customer_id').price.median().reset_index()\n",
    "\n",
    "plt.hist(customer_amount.price,range=(0,200),bins=40)\n",
    "plt.xlabel('Total Spent')\n",
    "plt.ylabel('Number of Customers')\n",
    "plt.title('Amount Spent by Customer from April thru September')\n",
    "plt.show()\n",
    "\n",
    "print('The average FoodWheel customer spends between $15-$40 on orders')"
   ]
  }
 ],
 "metadata": {
  "kernelspec": {
   "display_name": "Python 3",
   "language": "python",
   "name": "python3"
  },
  "language_info": {
   "codemirror_mode": {
    "name": "ipython",
    "version": 3
   },
   "file_extension": ".py",
   "mimetype": "text/x-python",
   "name": "python",
   "nbconvert_exporter": "python",
   "pygments_lexer": "ipython3",
   "version": "3.6.2"
  }
 },
 "nbformat": 4,
 "nbformat_minor": 2
}
