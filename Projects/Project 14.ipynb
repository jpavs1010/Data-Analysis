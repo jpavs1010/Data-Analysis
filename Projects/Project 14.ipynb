{
 "cells": [
  {
   "cell_type": "markdown",
   "metadata": {},
   "source": [
    "\n",
    "Project: Hypothesis Testing for Microtransactions\n",
    "Brian is a Product Manager at FarmBurg, a company that makes a farming simulation social network game. In the FarmBurg game, you can plow, plant, and harvest different crops.\n",
    "\n",
    "Today, you will be acting as Brian's data analyst for an A/B Test that he has been conducting.\n",
    "\n",
    "Part 1: Testing for Significant Difference\n",
    "Start by importing the following modules that you'll need for this project:\n",
    "\n",
    "pandas as pd\n",
    "\n",
    "Brian tells you that he ran an A/B test with three different groups: A, B, and C. You're kind of busy today, so you don't ask too many questions about the differences between A, B, and C. Maybe they were shown three different versions of an ad. Who cares?\n",
    "\n",
    "(HINT: you will care later)\n",
    "\n",
    "Brian gives you a CSV of results called clicks.csv. It has the following columns:\n",
    "\n",
    "user_id: a unique id for each visitor to the FarmBerg site\n",
    "ab_test_group: either A, B, or C depending on which group the visitor was assigned to\n",
    "click_day: only filled in if the user clicked on a link to purchase\n",
    "Load clicks.csv into the variable df."
   ]
  },
  {
   "cell_type": "code",
   "execution_count": 3,
   "metadata": {},
   "outputs": [
    {
     "name": "stdout",
     "output_type": "stream",
     "text": [
      "                                user_id group click_day\n",
      "0  8e27bf9a-5b6e-41ed-801a-a59979c0ca98     A       NaN\n",
      "1  eb89e6f0-e682-4f79-99b1-161cc1c096f1     A       NaN\n",
      "2  7119106a-7a95-417b-8c4c-092c12ee5ef7     A       NaN\n",
      "3  e53781ff-ff7a-4fcd-af1a-adba02b2b954     A       NaN\n",
      "4  02d48cf1-1ae6-40b3-9d8b-8208884a0904     A  Saturday\n"
     ]
    }
   ],
   "source": [
    "import pandas as pd\n",
    "df = pd.read_csv(r'C:\\Users\\Jessica\\PycharmProjects\\practice\\microtransactions\\clicks.csv')\n",
    "print(df.head())"
   ]
  },
  {
   "cell_type": "markdown",
   "metadata": {},
   "source": [
    "Define a new column called is_purchase which is Purchase if click_day is not None and No Purchase if click_day is None. This will tell us if each visitor clicked on the Purchase link."
   ]
  },
  {
   "cell_type": "code",
   "execution_count": 7,
   "metadata": {},
   "outputs": [
    {
     "name": "stdout",
     "output_type": "stream",
     "text": [
      "                                user_id group click_day  is_purchase\n",
      "0  8e27bf9a-5b6e-41ed-801a-a59979c0ca98     A       NaN  No Purchase\n",
      "1  eb89e6f0-e682-4f79-99b1-161cc1c096f1     A       NaN  No Purchase\n",
      "2  7119106a-7a95-417b-8c4c-092c12ee5ef7     A       NaN  No Purchase\n",
      "3  e53781ff-ff7a-4fcd-af1a-adba02b2b954     A       NaN  No Purchase\n",
      "4  02d48cf1-1ae6-40b3-9d8b-8208884a0904     A  Saturday     Purchase\n"
     ]
    }
   ],
   "source": [
    "import pandas as pd\n",
    "df = pd.read_csv(r'C:\\Users\\Jessica\\PycharmProjects\\practice\\microtransactions\\clicks.csv')\n",
    "df['is_purchase'] = df.click_day.apply(lambda x: 'Purchase' if pd.notnull(x) else 'No Purchase')\n",
    "print(df.head())"
   ]
  },
  {
   "cell_type": "markdown",
   "metadata": {},
   "source": [
    "We want to count the number of users who made a purchase from each group. Use groupby to count the number of Purchase and No Purchase from each group. Save your answer to the variable purchase_counts.\n",
    "\n",
    "Hint: Group by group and is_purchase and the function count on the column user_id."
   ]
  },
  {
   "cell_type": "code",
   "execution_count": 19,
   "metadata": {},
   "outputs": [
    {
     "name": "stdout",
     "output_type": "stream",
     "text": [
      "group  is_purchase\n",
      "A      No Purchase    1350\n",
      "       Purchase        316\n",
      "B      No Purchase    1483\n",
      "       Purchase        183\n",
      "C      No Purchase    1583\n",
      "       Purchase         83\n",
      "Name: user_id, dtype: int64\n"
     ]
    }
   ],
   "source": [
    "import pandas as pd\n",
    "df = pd.read_csv(r'C:\\Users\\Jessica\\PycharmProjects\\practice\\microtransactions\\clicks.csv')\n",
    "df['is_purchase'] = df.click_day.apply(lambda x: 'Purchase' if pd.notnull(x) else 'No Purchase')\n",
    "purchase_counts = df.groupby(['group','is_purchase']).user_id.count()\n",
    "\n",
    "print(purchase_counts) # group A has the most purchases, then group B; group C has the least purchases"
   ]
  },
  {
   "cell_type": "markdown",
   "metadata": {},
   "source": [
    "This data is categorical and there are more than 2 conditions, so we'll want to use a chi-squared test to see if there is a significant difference between the three conditions.\n",
    "\n",
    "Start by filling in the contingency table below with the correct values:\n",
    "\n",
    "contingency = [[groupA_purchases, groupA_not_purchases],\n",
    "               [groupB_purchases, groupA_not_purchases],\n",
    "               [groupC_purchases, groupA_not_purchases]]"
   ]
  },
  {
   "cell_type": "code",
   "execution_count": null,
   "metadata": {
    "collapsed": true
   },
   "outputs": [],
   "source": [
    "contingency = [[1350, 316],\n",
    "               [1483, 183],\n",
    "               [1583, 83]]"
   ]
  },
  {
   "cell_type": "markdown",
   "metadata": {},
   "source": [
    "Now import the function chi2_contingency from scipy.stats and perform the chi-squared test.\n",
    "\n",
    "Recall that the p-value is the second output of chi2_contingency."
   ]
  },
  {
   "cell_type": "code",
   "execution_count": 41,
   "metadata": {},
   "outputs": [
    {
     "name": "stdout",
     "output_type": "stream",
     "text": [
      "P-val is 2.4126213546684264e-35\n",
      "Reject Null Hypothesis: there is a significant difference between the datasets\n"
     ]
    }
   ],
   "source": [
    "import pandas as pd\n",
    "from scipy.stats import chi2_contingency\n",
    "df = pd.read_csv(r'C:\\Users\\Jessica\\PycharmProjects\\practice\\microtransactions\\clicks.csv')\n",
    "df['is_purchase'] = df.click_day.apply(lambda x: 'Purchase' if pd.notnull(x) else 'No Purchase')\n",
    "purchase_counts = df.groupby(['group', 'is_purchase']).user_id.count()\n",
    "\n",
    "contingency = [[1350, 316],\n",
    "               [1483, 183],\n",
    "               [1583, 83]]\n",
    "\n",
    "chi2, pval_contingency, dof, expected = chi2_contingency(contingency)\n",
    "\n",
    "print('P-val is {}'.format(pval_contingency))\n",
    "\n",
    "\n",
    "def pval_hypothesis_test(pval):\n",
    "    if pval < 0.05:\n",
    "        print(\"Reject Null Hypothesis: there is a significant difference between the datasets\")\n",
    "    else:\n",
    "        print(\"No significant difference between datasets\")\n",
    "pval_hypothesis_test(pval_contingency)"
   ]
  },
  {
   "cell_type": "markdown",
   "metadata": {},
   "source": [
    "Great! It looks like a significantly greater portion of users from Group A made a purchase.\n",
    "\n",
    "Part 2: Testing for Exceeding a Goal\n",
    "Your day is a little less busy than you expected, so you decide to ask Brian about his test.\n",
    "\n",
    "You: Hey Brian! What was that test you were running anyway?\n",
    "\n",
    "Brian: It was awesome! We are trying to get users to purchase a small FarmBurg upgrade package. It's called a microtransaction. We're not sure how much to charge for it, so we tested three different price points: $0.99, $1.99, and $4.99. It looks like significantly more people bought the upgrade package for $0.99, so I guess that's what we'll charge.\n",
    "\n",
    "You: Oh no! I should have asked you this before we did that chi-squared test. I don't think that this was the right test at all. It's true that more people wanted purchase the upgrade at $0.99; you probably expected that. What we really want to know is if each price point allows us to make enough money that we can exceed some target goal. Brian, how much do you think it cost to build this feature?\n",
    "\n",
    "Brian: Hmm. I guess that we need to generate a minimum of $1000 per week in order to justify this project.\n",
    "\n",
    "You: We have some work to do!\n",
    "\n",
    "How many visitors came to the site this week?\n",
    "\n",
    "Hint: Look at the length of df."
   ]
  },
  {
   "cell_type": "code",
   "execution_count": 47,
   "metadata": {},
   "outputs": [
    {
     "name": "stdout",
     "output_type": "stream",
     "text": [
      "Total Visitors: 4998\n"
     ]
    }
   ],
   "source": [
    "import pandas as pd\n",
    "df = pd.read_csv(r'C:\\Users\\Jessica\\PycharmProjects\\practice\\microtransactions\\clicks.csv')\n",
    "total_visitors = df.user_id.count()  # or len(df) ... duh! \n",
    "print('Total Visitors: {}'.format(total_visitors))"
   ]
  },
  {
   "cell_type": "markdown",
   "metadata": {},
   "source": [
    "Let's assume that this is how many visitors we generally get each week. Given that, calculate the percent of visitors who would need to purchase the upgrade package at each price point ($0.99, $1.99, $4.99) in order to generate $1000 per week."
   ]
  },
  {
   "cell_type": "code",
   "execution_count": 84,
   "metadata": {},
   "outputs": [
    {
     "name": "stdout",
     "output_type": "stream",
     "text": [
      "Number of Visitors to reach revenue goal using price point 0.99: 1010.1010101010102\n",
      "Percent of Visitors to reach revenue goal using price point 0.99: 20.21 %\n"
     ]
    }
   ],
   "source": [
    "# Calculate the number of people who would need to purchase a $0.99 upgrade in order to generate $1000.\n",
    "# Then divide by the number of people who visit the site each week.\n",
    "import pandas as pd\n",
    "df = pd.read_csv(r'C:\\Users\\Jessica\\PycharmProjects\\practice\\microtransactions\\clicks.csv')\n",
    "total_visitors = len(df)\n",
    "\n",
    "goal_revenue = 1000.\n",
    "price_point_a = 0.99\n",
    "price_point_b = 1.99\n",
    "price_point_c = 4.99\n",
    "number_of_purchases_to_goal = goal_revenue /price_point_a\n",
    "total_visitors_reach_goal_a = (number_of_purchases_to_goal / total_visitors) * 100\n",
    "\n",
    "print('Number of Visitors to reach revenue goal using price point 0.99: {}'.format(number_of_purchases_to_goal))\n",
    "print('Percent of Visitors to reach revenue goal using price point 0.99: {} %'.format(round(total_visitors_reach_goal_a,2)))\n"
   ]
  },
  {
   "cell_type": "code",
   "execution_count": 83,
   "metadata": {},
   "outputs": [
    {
     "name": "stdout",
     "output_type": "stream",
     "text": [
      "Number of Visitors to reach revenue goal using price point 1.99: 502.51256281407035\n",
      "Percent of Visitors to reach revenue goal using price point 1.99: 10.05 %\n"
     ]
    }
   ],
   "source": [
    "# Calculate the number of people who would need to purchase a $1.99 upgrade in order to generate $1000.\n",
    "# Then divide by the number of people who visit the site each week.\n",
    "import pandas as pd\n",
    "df = pd.read_csv(r'C:\\Users\\Jessica\\PycharmProjects\\practice\\microtransactions\\clicks.csv')\n",
    "total_visitors = len(df)\n",
    "\n",
    "goal_revenue = 1000.\n",
    "price_point_a = 0.99\n",
    "price_point_b = 1.99\n",
    "price_point_c = 4.99\n",
    "number_of_purchases_to_goal = goal_revenue /price_point_b\n",
    "total_visitors_reach_goal_b = (number_of_purchases_to_goal / total_visitors) * 100\n",
    "print('Number of Visitors to reach revenue goal using price point 1.99: {}'.format(number_of_purchases_to_goal))\n",
    "print('Percent of Visitors to reach revenue goal using price point 1.99: {} %'.format(round(total_visitors_reach_goal_b,2)))"
   ]
  },
  {
   "cell_type": "code",
   "execution_count": 82,
   "metadata": {},
   "outputs": [
    {
     "name": "stdout",
     "output_type": "stream",
     "text": [
      "Number of Visitors to reach revenue goal using price point 4.99: 200.40080160320642\n",
      "Percent of Visitors to reach revenue goal using price point 4.99: 4.01 %\n"
     ]
    }
   ],
   "source": [
    "# Calculate the number of people who would need to purchase a $1.99 upgrade in order to generate $1000.\n",
    "# Then divide by the number of people who visit the site each week.\n",
    "import pandas as pd\n",
    "df = pd.read_csv(r'C:\\Users\\Jessica\\PycharmProjects\\practice\\microtransactions\\clicks.csv')\n",
    "total_visitors = len(df)\n",
    "\n",
    "goal_revenue = 1000.\n",
    "price_point_a = 0.99\n",
    "price_point_b = 1.99\n",
    "price_point_c = 4.99\n",
    "number_of_purchases_to_goal = goal_revenue /price_point_c\n",
    "total_visitors_reach_goal_c = (number_of_purchases_to_goal / total_visitors) * 100\n",
    "print('Number of Visitors to reach revenue goal using price point 4.99: {}'.format(number_of_purchases_to_goal))\n",
    "print('Percent of Visitors to reach revenue goal using price point 4.99: {} %'.format(round(total_visitors_reach_goal_c,2)))"
   ]
  },
  {
   "cell_type": "markdown",
   "metadata": {},
   "source": [
    "Note that you need a smaller percentage of purchases for higher price points.\n",
    "\n",
    "Now, for each group, perform a binomial test using binom_test from scipy.stats.\n",
    "\n",
    "x will be the number of purchases for that group\n",
    "n will be the total number of visitors assigned to that group\n",
    "p will be the target percent of purchases for that price point (calculated above)\n",
    "Recall that:\n",
    "\n",
    "Group A is the $0.99 price point\n",
    "Group B is the $1.99 price point\n",
    "Group C is the $4.99 price point"
   ]
  },
  {
   "cell_type": "code",
   "execution_count": null,
   "metadata": {
    "collapsed": true
   },
   "outputs": [],
   "source": [
    "# import the binomial test from scipy.stats here\n",
    "from scipy.stats import binom_test"
   ]
  },
  {
   "cell_type": "code",
   "execution_count": 100,
   "metadata": {},
   "outputs": [
    {
     "name": "stdout",
     "output_type": "stream",
     "text": [
      "group  is_purchase\n",
      "A      No Purchase    1350\n",
      "       Purchase        316\n",
      "B      No Purchase    1483\n",
      "       Purchase        183\n",
      "C      No Purchase    1583\n",
      "       Purchase         83\n",
      "Name: user_id, dtype: int64\n",
      "# Failures(GrpA): 1350\n",
      "# Successes(GrpA): 316\n",
      "Total Trials(GrpA: 1666\n",
      "Probability to goal(GrpA): 0.20210104243717691\n",
      "P-Val for GroupA: 0.2111287299402726\n",
      "No significant difference between datasets\n"
     ]
    }
   ],
   "source": [
    "# Test group A here\n",
    "import pandas as pd\n",
    "from scipy.stats import binom_test\n",
    "\n",
    "df = pd.read_csv(r'C:\\Users\\Jessica\\PycharmProjects\\practice\\microtransactions\\clicks.csv')\n",
    "df['is_purchase'] = df.click_day.apply(lambda x: 'Purchase' if pd.notnull(x) else 'No Purchase')\n",
    "purchase_counts = df.groupby(['group','is_purchase']).user_id.count()\n",
    "\n",
    "print(purchase_counts)\n",
    "contingency = [[1350,316],\n",
    "               [1483,183],\n",
    "               [1583,83]]\n",
    "observed_failures_groupA = contingency[0][0]\n",
    "print('# Failures(GrpA): {}'.format(observed_failures_groupA))\n",
    "observed_successes_groupA = contingency[0][1]\n",
    "print('# Successes(GrpA): {}'.format(observed_successes_groupA))\n",
    "number_trials_groupA = observed_failures_groupA + observed_successes_groupA\n",
    "print('Total Trials(GrpA: {}'.format(number_trials_groupA))\n",
    "\n",
    "total_visitors = len(df)\n",
    "\n",
    "goal_revenue = 1000.\n",
    "price_point_a = 0.99\n",
    "price_point_b = 1.99\n",
    "price_point_c = 4.99\n",
    "number_of_purchases_to_goal = goal_revenue /price_point_a\n",
    "\n",
    "probability_to_goal_grpA = number_of_purchases_to_goal / total_visitors\n",
    "print('Probability to goal(GrpA): {}'.format(probability_to_goal_grpA))\n",
    "# binomal test(observed successes, number of trials, probability)\n",
    "pval_group_a = binom_test(observed_successes_groupA,n=number_trials_groupA,p=probability_to_goal_grpA)\n",
    "\n",
    "print('P-Val for GroupA: {}'.format(pval_group_a))\n",
    "\n",
    "\n",
    "def pval_hypothesis_test(pval):\n",
    "    if pval < 0.05:\n",
    "        print(\"Reject Null Hypothesis: there is a significant difference between the datasets\")\n",
    "    else:\n",
    "        print(\"No significant difference between datasets\")\n",
    "pval_hypothesis_test(pval_group_a)\n"
   ]
  },
  {
   "cell_type": "code",
   "execution_count": 103,
   "metadata": {},
   "outputs": [
    {
     "name": "stdout",
     "output_type": "stream",
     "text": [
      "group  is_purchase\n",
      "A      No Purchase    1350\n",
      "       Purchase        316\n",
      "B      No Purchase    1483\n",
      "       Purchase        183\n",
      "C      No Purchase    1583\n",
      "       Purchase         83\n",
      "Name: user_id, dtype: int64\n",
      "# Failures(GrpB): 1483\n",
      "# Successes(GrpB): 183\n",
      "Total Trials(GrpB): 1666\n",
      "Probability to goal(GrpB): 0.10054272965467594\n",
      "P-Val for GroupB: 0.20660209246555486\n",
      "No significant difference between datasets\n"
     ]
    }
   ],
   "source": [
    "# Test group B here\n",
    "import pandas as pd\n",
    "from scipy.stats import binom_test\n",
    "\n",
    "df = pd.read_csv(r'C:\\Users\\Jessica\\PycharmProjects\\practice\\microtransactions\\clicks.csv')\n",
    "df['is_purchase'] = df.click_day.apply(lambda x: 'Purchase' if pd.notnull(x) else 'No Purchase')\n",
    "purchase_counts = df.groupby(['group','is_purchase']).user_id.count()\n",
    "\n",
    "print(purchase_counts)\n",
    "contingency = [[1350,316],\n",
    "               [1483,183],\n",
    "               [1583,83]]\n",
    "observed_failures_groupB = contingency[1][0]\n",
    "print('# Failures(GrpB): {}'.format(observed_failures_groupB))\n",
    "observed_successes_groupB = contingency[1][1]\n",
    "print('# Successes(GrpB): {}'.format(observed_successes_groupB))\n",
    "number_trials_groupB = observed_failures_groupB + observed_successes_groupB\n",
    "print('Total Trials(GrpB): {}'.format(number_trials_groupB))\n",
    "\n",
    "total_visitors = len(df)\n",
    "\n",
    "goal_revenue = 1000.\n",
    "price_point_a = 0.99\n",
    "price_point_b = 1.99\n",
    "price_point_c = 4.99\n",
    "number_of_purchases_to_goal = goal_revenue /price_point_b\n",
    "\n",
    "probability_to_goal_grpB = number_of_purchases_to_goal / total_visitors\n",
    "print('Probability to goal(GrpB): {}'.format(probability_to_goal_grpB))\n",
    "# binomal test(observed successes, number of trials, probability)\n",
    "pval_group_b = binom_test(observed_successes_groupB,n=number_trials_groupB,p=probability_to_goal_grpB)\n",
    "\n",
    "print('P-Val for GroupB: {}'.format(pval_group_b))\n",
    "\n",
    "\n",
    "def pval_hypothesis_test(pval):\n",
    "    if pval < 0.05:\n",
    "        print(\"Reject Null Hypothesis: there is a significant difference between the datasets\")\n",
    "    else:\n",
    "        print(\"No significant difference between datasets\")\n",
    "pval_hypothesis_test(pval_group_b)"
   ]
  },
  {
   "cell_type": "code",
   "execution_count": 104,
   "metadata": {},
   "outputs": [
    {
     "name": "stdout",
     "output_type": "stream",
     "text": [
      "group  is_purchase\n",
      "A      No Purchase    1350\n",
      "       Purchase        316\n",
      "B      No Purchase    1483\n",
      "       Purchase        183\n",
      "C      No Purchase    1583\n",
      "       Purchase         83\n",
      "Name: user_id, dtype: int64\n",
      "# Failures(GrpC): 1483\n",
      "# Successes(GrpC): 183\n",
      "Total Trials(GrpC): 1666\n",
      "Probability to goal(GrpC): 0.040096198800161346\n",
      "P-Val for GroupB: 1.4574710785648963e-33\n",
      "Reject Null Hypothesis: there is a significant difference between the datasets\n"
     ]
    }
   ],
   "source": [
    "# Test group C here\n",
    "import pandas as pd\n",
    "from scipy.stats import binom_test\n",
    "\n",
    "df = pd.read_csv(r'C:\\Users\\Jessica\\PycharmProjects\\practice\\microtransactions\\clicks.csv')\n",
    "df['is_purchase'] = df.click_day.apply(lambda x: 'Purchase' if pd.notnull(x) else 'No Purchase')\n",
    "purchase_counts = df.groupby(['group','is_purchase']).user_id.count()\n",
    "\n",
    "print(purchase_counts)\n",
    "contingency = [[1350,316],\n",
    "               [1483,183],\n",
    "               [1583,83]]\n",
    "observed_failures_groupC = contingency[1][0]\n",
    "print('# Failures(GrpC): {}'.format(observed_failures_groupC))\n",
    "observed_successes_groupC = contingency[1][1]\n",
    "print('# Successes(GrpC): {}'.format(observed_successes_groupC))\n",
    "number_trials_groupC = observed_failures_groupC + observed_successes_groupC\n",
    "print('Total Trials(GrpC): {}'.format(number_trials_groupB))\n",
    "\n",
    "total_visitors = len(df)\n",
    "\n",
    "goal_revenue = 1000.\n",
    "price_point_a = 0.99\n",
    "price_point_b = 1.99\n",
    "price_point_c = 4.99\n",
    "number_of_purchases_to_goal = goal_revenue /price_point_c\n",
    "\n",
    "probability_to_goal_grpC = number_of_purchases_to_goal / total_visitors\n",
    "print('Probability to goal(GrpC): {}'.format(probability_to_goal_grpC))\n",
    "# binomal test(observed successes, number of trials, probability)\n",
    "pval_group_c = binom_test(observed_successes_groupC,n=number_trials_groupC,p=probability_to_goal_grpC)\n",
    "\n",
    "print('P-Val for GroupB: {}'.format(pval_group_c))\n",
    "\n",
    "\n",
    "def pval_hypothesis_test(pval):\n",
    "    if pval < 0.05:\n",
    "        print(\"Reject Null Hypothesis: there is a significant difference between the datasets\")\n",
    "    else:\n",
    "        print(\"No significant difference between datasets\")\n",
    "pval_hypothesis_test(pval_group_c)"
   ]
  },
  {
   "cell_type": "markdown",
   "metadata": {},
   "source": [
    "If any of the groups passed the binomial test with p < 0.05, then we can be confident that enough people will buy the upgrade package at the price point to justify the feature.\n",
    "\n",
    "Brian should go with price point C = 4.99. We can be confident that there will be enough people to purchase the upgrade package at this price point to justify the feature (and meet the revenue goal of $1000 to justify the project)\n",
    "\n",
    "This goes to show that a lower price and more people choosing the lower prices doesn't necessarily mean you will meet your revenue goals, it's is important to consider the price that will satisify the minimum number of customers to reach revenue goals. It's important to consider tradeoffs! "
   ]
  }
 ],
 "metadata": {
  "kernelspec": {
   "display_name": "Python 3",
   "language": "python",
   "name": "python3"
  },
  "language_info": {
   "codemirror_mode": {
    "name": "ipython",
    "version": 3
   },
   "file_extension": ".py",
   "mimetype": "text/x-python",
   "name": "python",
   "nbconvert_exporter": "python",
   "pygments_lexer": "ipython3",
   "version": "3.6.2"
  }
 },
 "nbformat": 4,
 "nbformat_minor": 2
}
